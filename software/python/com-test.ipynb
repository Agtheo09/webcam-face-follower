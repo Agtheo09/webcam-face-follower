{
 "cells": [
  {
   "cell_type": "code",
   "execution_count": 1,
   "metadata": {},
   "outputs": [],
   "source": [
    "import serial"
   ]
  },
  {
   "cell_type": "code",
   "execution_count": 9,
   "metadata": {},
   "outputs": [],
   "source": [
    "# Arduino Staff\n",
    "arduino = serial.Serial(\"COM4\", 9600, timeout=.1)"
   ]
  },
  {
   "cell_type": "code",
   "execution_count": 3,
   "metadata": {},
   "outputs": [],
   "source": [
    "\n",
    "def writeDataToSerial(pos=[500, 500]):\n",
    "    strToSend = f\"{pos[0]}:{pos[1]}\"\n",
    "    \n",
    "    print(strToSend)\n",
    "\n",
    "    arduino.write(bytes(strToSend, 'utf-8'))"
   ]
  },
  {
   "cell_type": "code",
   "execution_count": 14,
   "metadata": {},
   "outputs": [
    {
     "name": "stdout",
     "output_type": "stream",
     "text": [
      "1000,1000\n"
     ]
    }
   ],
   "source": [
    "writeDataToSerial([1000, 1000])"
   ]
  }
 ],
 "metadata": {
  "kernelspec": {
   "display_name": "faceFollower",
   "language": "python",
   "name": "python3"
  },
  "language_info": {
   "codemirror_mode": {
    "name": "ipython",
    "version": 3
   },
   "file_extension": ".py",
   "mimetype": "text/x-python",
   "name": "python",
   "nbconvert_exporter": "python",
   "pygments_lexer": "ipython3",
   "version": "3.10.11"
  },
  "orig_nbformat": 4
 },
 "nbformat": 4,
 "nbformat_minor": 2
}
